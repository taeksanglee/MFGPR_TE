{
 "cells": [
  {
   "cell_type": "code",
   "execution_count": 1,
   "metadata": {},
   "outputs": [],
   "source": [
    "import numpy as np\n",
    "import matplotlib\n",
    "import matplotlib.pyplot as plt\n",
    "from scipy.integrate import ode\n",
    "from scipy.optimize import *\n",
    "%matplotlib inline "
   ]
  },
  {
   "cell_type": "code",
   "execution_count": 2,
   "metadata": {},
   "outputs": [],
   "source": [
    "# Equations that need to be solved for the problem \n",
    "\n",
    "def evalEquilibrium(X, params):\n",
    "    # unpack variables \n",
    "    c      = X[0]\n",
    "    thetas = X[1]\n",
    "    pA     = X[2]\n",
    "    # unpack params \n",
    "    d    = params[0]\n",
    "    a_s  = params[1]\n",
    "    a_b  = params[2]\n",
    "    mu_b = params[3]\n",
    "    mu_s = params[4] \n",
    "    h_b  = params[5]\n",
    "    h_s  = params[6]\n",
    "    # most important parameters are, first thickness and volume at the end \n",
    "    t_b  = params[7]\n",
    "    Vb   = params[8]\n",
    "    # the last 'parameter' is current growth \n",
    "    lamg = params[9]\n",
    "    \n",
    "    # A2-A3-A4\n",
    "    Rc = c/np.sin(thetas)\n",
    "    Rb = (d+(a_s-c)*np.tan(thetas))/(1+np.cos(thetas))\n",
    "    cb = c - Rb*np.sin(thetas)\n",
    "    \n",
    "    # Stretches \n",
    "    lamda_b = (Rc*thetas+Rb*(np.pi-thetas)+cb)/(2*a_b)\n",
    "    lamda_s = ((a_s-c)/np.cos(thetas) + Rc*thetas)/a_s \n",
    "    lamdaE_s = lamda_s/lamg\n",
    "    \n",
    "    # Equilibrium \n",
    "    eq1 = mu_b*h_b*(lamda_b-lamda_b**-3) + mu_s*h_s*(lamdaE_s-lamdaE_s**-3) - pA*Rc\n",
    "    eq2 = mu_b*h_b*(lamda_b-lamda_b**-3) -  pA*Rb\n",
    "    \n",
    "    # Volume constraint \n",
    "    eq3 = t_b*(Rb**2*(np.pi-thetas)+2*Rb*cb+(c+cb)*Rb*np.cos(thetas)+Rc**2/2*(2*thetas-np.sin(2*thetas))) - Vb\n",
    "    \n",
    "    return [eq1,eq2,eq3]"
   ]
  },
  {
   "cell_type": "code",
   "execution_count": 3,
   "metadata": {},
   "outputs": [
    {
     "name": "stdout",
     "output_type": "stream",
     "text": [
      "13.919066778784837 1.291508613814102 1.7527592000182286\n"
     ]
    }
   ],
   "source": [
    "# CASE 1, 30x60 mm expander, filled to final volume of 38 ml \n",
    "# just testing, not solving the growth over time \n",
    "\n",
    "d    = 3 # mm, distance between skin surface and bottom of the expander\n",
    "a_s  = 18 # mm, distance between the center of the expander and the boundary condition, slightly wider than expander\n",
    "a_b  = 15 # mm, half of width of expander   \n",
    "mu_b = 20 # MPa, shear modulus of expander https://www.azom.com/properties.aspx?ArticleID=920 \n",
    "mu_s = 1 # MPa, shear modulus of skin  \n",
    "h_b  = 1 # mm thickness of expander \n",
    "h_s  = 1 # mm thickness of skin \n",
    "# most important 'parameters' are, first thickness and volume at the end \n",
    "# more like control variables\n",
    "t_b  = 60 #mm length of the expander\n",
    "Vb   = 38000 #mm^3 final volume \n",
    "# the other 'parameter' is the growth\n",
    "lamg = 1 # initial growth \n",
    "\n",
    "params = [d, a_s, a_b, mu_b, mu_s, h_b, h_s, t_b, Vb, lamg]\n",
    "\n",
    "# Solve for initial stretches\n",
    "c0 = 10 \n",
    "thetas0 = np.pi/6\n",
    "pA0 = 10\n",
    "X0 = [c0,thetas0,pA0]\n",
    "X = fsolve(evalEquilibrium,X0,args=params)\n",
    "c = X[0]\n",
    "thetas = X[1]\n",
    "pA = X[2]\n",
    "print(c,thetas,pA)"
   ]
  },
  {
   "cell_type": "code",
   "execution_count": 4,
   "metadata": {},
   "outputs": [],
   "source": [
    "\n",
    "def evalSolution(X, params):\n",
    "    # unpack variables \n",
    "    c      = X[0]\n",
    "    thetas = X[1]\n",
    "    pA     = X[2]\n",
    "    # unpack params \n",
    "    d    = params[0]\n",
    "    a_s  = params[1]\n",
    "    a_b  = params[2]\n",
    "    mu_b = params[3]\n",
    "    mu_s = params[4] \n",
    "    h_b  = params[5]\n",
    "    h_s  = params[6]\n",
    "    # most important parameters are, first thickness and volume at the end \n",
    "    t_b  = params[7]\n",
    "    Vb   = params[8]\n",
    "    # the last 'parameter' is current growth \n",
    "    lamg = params[9]\n",
    "    \n",
    "    # A2-A3-A4\n",
    "    Rc = c/np.sin(thetas)\n",
    "    Rb = (d+(a_s-c)*np.tan(thetas))/(1+np.cos(thetas))\n",
    "    cb = c - Rb*np.sin(thetas)\n",
    "    \n",
    "    # Stretches \n",
    "    lamda_b = (Rc*thetas+Rb*(np.pi-thetas)+cb)/(2*a_b)\n",
    "    lamda_s = ((a_s-c)/np.cos(thetas) + Rc*thetas)/a_s \n",
    "    lamdaE_s = lamda_s/lamg\n",
    "    \n",
    "    \n",
    "    return [Rc,Rb,cb,lamda_b,lamda_s]"
   ]
  },
  {
   "cell_type": "code",
   "execution_count": 5,
   "metadata": {},
   "outputs": [
    {
     "name": "stdout",
     "output_type": "stream",
     "text": [
      "14.48014278618508 13.506635756435513 0.9357856173648038 1.4875141999675325 1.8613813198590425\n"
     ]
    }
   ],
   "source": [
    "[Rc,Rb,cb,lamda_b,lamda_s] = evalSolution(X, params)\n",
    "print(Rc,Rb,cb,lamda_b,lamda_s)"
   ]
  },
  {
   "cell_type": "code",
   "execution_count": 6,
   "metadata": {},
   "outputs": [
    {
     "data": {
      "image/png": "[encoded data removed]",
      "text/plain": [
       "<Figure size 432x288 with 1 Axes>"
      ]
     },
     "metadata": {
      "needs_background": "light"
     },
     "output_type": "display_data"
    }
   ],
   "source": [
    "# PLOT \n",
    "fig, ax = plt.subplots(1, 1)\n",
    "\n",
    "# EXPANDER \n",
    "# for the contact region \n",
    "npts = 30\n",
    "theta_c_ls = np.linspace(0,thetas,npts)\n",
    "zc = Rb+Rb*np.cos(thetas)\n",
    "x_b_c = Rc*np.sin(theta_c_ls)\n",
    "z_b_c = zc + Rc*(np.cos(theta_c_ls)-np.cos(thetas))\n",
    "# for the non-contact region\n",
    "theta_nc_ls = np.linspace(thetas,np.pi,npts)\n",
    "x_b_nc = cb+Rb*np.sin(theta_nc_ls)\n",
    "z_b_nc = Rb*(1+np.cos(theta_nc_ls))\n",
    "\n",
    "# plot expander \n",
    "ax.plot(x_b_c,z_b_c,'k')\n",
    "ax.plot(x_b_nc,z_b_nc,'k')\n",
    "ax.plot(-x_b_c,z_b_c,'k')\n",
    "ax.plot(-x_b_nc,z_b_nc,'k')\n",
    "\n",
    "\n",
    "# SKIN \n",
    "# for the contact region, same as expander\n",
    "x_s_c = x_b_c\n",
    "z_s_c = z_b_c\n",
    "# for the non-contact region \n",
    "x_s_nc = np.linspace(c,a_s,npts)\n",
    "z_s_nc = d + (a_s - x_s_nc)*np.tan(thetas)\n",
    "\n",
    "\n",
    "# plot skin\n",
    "ax.plot(x_s_c,z_s_c,'r')\n",
    "ax.plot(x_s_nc,z_s_nc,'r')\n",
    "ax.plot(-x_s_c,z_s_c,'r')\n",
    "ax.plot(-x_s_nc,z_s_nc,'r')\n",
    "\n",
    "ax.set_aspect('equal')"
   ]
  },
  {
   "cell_type": "code",
   "execution_count": 7,
   "metadata": {},
   "outputs": [],
   "source": [
    "# CASE 1, 30x60 mm expander, filled to final volume of 38 ml \n",
    "# Solving growth and inflation over time \n",
    "\n",
    "d    = 3 # mm, distance between skin surface and bottom of the expander\n",
    "a_s  = 18 # mm, distance between the center of the expander and the boundary condition, slightly wider than expander\n",
    "a_b  = 15 # mm, half of width of expander   \n",
    "mu_b = 20 # MPa, shear modulus of expander https://www.azom.com/properties.aspx?ArticleID=920 \n",
    "mu_s = 1 # MPa, shear modulus of skin  \n",
    "h_b  = 1 # mm thickness of expander \n",
    "h_s  = 1 # mm thickness of skin \n",
    "# most important 'parameters' are, first thickness and volume at the end \n",
    "# more like control variables\n",
    "t_b  = 60 #mm length of the expander\n",
    "Vb   = 0 #mm^3 initial volume \n",
    "# the other 'parameter' is the growth\n",
    "lamg = 1 # initial growth \n",
    "#\n",
    "params = [d, a_s, a_b, mu_b, mu_s, h_b, h_s, t_b, Vb, lamg]\n",
    "\n",
    "\n",
    "Vb_inflations = [6000,11000,20000,23000,26000,28000,29000,30000,32000,34000,36000,38000,38000]\n",
    "time_inflations = [0,7,21,35,42,49,56,63,70,77,84,91,98,105]\n",
    "n_inflations = len(time_inflations)\n",
    "\n",
    "# initial guess for equilibrium problem \n",
    "c0 = 10 \n",
    "thetas0 = np.pi/6\n",
    "pA0 = 10\n",
    "X0 = [c0,thetas0,pA0]\n",
    "\n",
    "# parameter to integrate growth\n",
    "kg = 0.2 # 1/day\n",
    "# lam critical parameter also needed for integrate growth\n",
    "lam_crit = 1.1\n",
    "\n",
    "# store solution of total deformation and growth\n",
    "# for low fidelity, max and average are the same \n",
    "nsteps = 10\n",
    "lam_vec = np.zeros((n_inflations*nsteps-nsteps))\n",
    "lamg_vec = np.zeros((n_inflations*nsteps-nsteps))\n",
    "time_vec = np.zeros((n_inflations*nsteps-nsteps))\n",
    "\n",
    "for ti in range(len(time_inflations)-1):\n",
    "    t0 = time_inflations[ti]\n",
    "    tf = time_inflations[ti+1]\n",
    "    dt = (tf-t0)/(nsteps-1)\n",
    "    # update volume in 'params'\n",
    "    Vb = Vb_inflations[ti]\n",
    "    # integrate growth\n",
    "    for step in range(nsteps):\n",
    "        params = [d, a_s, a_b, mu_b, mu_s, h_b, h_s, t_b, Vb, lamg]\n",
    "        # solve equilibrium \n",
    "        X = fsolve(evalEquilibrium,X0,args=params)\n",
    "        # evaluate total stretch \n",
    "        [Rc,Rb,cb,lamda_b,lamda_s] = evalSolution(X, params)\n",
    "        # integrate growth \n",
    "        if lamda_s*lam_crit/lamg-lam_crit>0:\n",
    "            lamg = lamg + dt*kg*(lamda_s*lam_crit/lamg-lam_crit)\n",
    "        # reset initial guess for next loop\n",
    "        X0 = X\n",
    "        # store to plot at the end \n",
    "        time_vec[ti*nsteps+step] = t0 + dt*step\n",
    "        lam_vec[ti*nsteps+step] = lamda_s\n",
    "        lamg_vec[ti*nsteps+step] = lamg"
   ]
  },
  {
   "cell_type": "code",
   "execution_count": 8,
   "metadata": {},
   "outputs": [
    {
     "data": {
      "text/plain": [
       "<matplotlib.legend.Legend at 0x7f99125f4eb0>"
      ]
     },
     "execution_count": 8,
     "metadata": {},
     "output_type": "execute_result"
    },
    {
     "data": {
      "image/png": "[encoded data removed]",
      "text/plain": [
       "<Figure size 432x288 with 1 Axes>"
      ]
     },
     "metadata": {
      "needs_background": "light"
     },
     "output_type": "display_data"
    }
   ],
   "source": [
    "# PLOT \n",
    "fig, ax = plt.subplots(1, 1)\n",
    "ax.plot(time_vec,lam_vec,color='royalblue',label='total deformation')\n",
    "ax.plot(time_vec,lamg_vec,color='hotpink',label='growth')\n",
    "ax.legend(loc=2)"
   ]
  },
  {
   "cell_type": "markdown",
   "metadata": {},
   "source": [
    "## CASE 1: Anterior face 30x60mm expander, 38ml final fill volume\n",
    "\n",
    "The setup of the model is in the previous cells, above. Here, load the combination of parameters:\n",
    "\n",
    "$\\mu$, $k$ \n",
    "\n",
    "And run the protocol with the low fidelity model and save to a file\n"
   ]
  },
  {
   "cell_type": "code",
   "execution_count": 66,
   "metadata": {},
   "outputs": [
    {
     "name": "stdout",
     "output_type": "stream",
     "text": [
      "read 200 inputs\n"
     ]
    }
   ],
   "source": [
    "# Load data\n",
    "inputs = np.loadtxt('../LowFidelityModel/growth_low_fidelity_200T.txt')\n",
    "inputs[:100,-1] *= 24\n",
    "n_input = len(inputs)\n",
    "print('read %i inputs'%n_input)"
   ]
  },
  {
   "cell_type": "code",
   "execution_count": 67,
   "metadata": {},
   "outputs": [],
   "source": [
    "\n",
    "# Initial parameters [some of them will be overwritten]\n",
    "d    = 3 # mm, distance between skin surface and bottom of the expander\n",
    "a_s  = 18 # mm, distance between the center of the expander and the boundary condition, slightly wider than expander\n",
    "a_b  = 15 # mm, half of width of expander   \n",
    "mu_b = 20 # MPa, shear modulus of expander https://www.azom.com/properties.aspx?ArticleID=920 \n",
    "mu_s = 1 # MPa, shear modulus of skin  \n",
    "h_b  = 1 # mm thickness of expander \n",
    "h_s  = 1 # mm thickness of skin \n",
    "lam_crit = 1.1567 # prestrain \n",
    "# most important 'parameters' are, first thickness and volume at the end \n",
    "# more like control variables\n",
    "t_b  = 60 #mm length of the expander\n",
    "Vb   = 0 #mm^3 initial volume \n",
    "# the other 'parameter' is the growth\n",
    "lamg = 1 # initial growth \n",
    "# Store initial parameters\n",
    "params = [d, a_s, a_b, mu_b, mu_s, h_b, h_s, t_b, Vb, lamg]\n",
    "\n",
    "# Inflation protocol\n",
    "Vb_inflations = [6000,11000,15000,20000,23000,26000,28000,29000,30000,32000,34000,36000,38000,38000]\n",
    "time_inflations = [0,7,21,35,42,49,56,63,70,77,84,91,98,105]\n",
    "n_inflations = len(time_inflations)\n",
    "nsteps = 40\n",
    "\n",
    "# Loop over inputs, run model, save data \n",
    "theta_LF_AnteFace30x60mm38cc = np.zeros((n_input,n_inflations*nsteps-nsteps))\n",
    "thetaG_LF_AnteFace30x60mm38cc = np.zeros((n_input,n_inflations*nsteps-nsteps))\n",
    "    \n",
    "for ni in range(n_input):\n",
    "    # Parameters that need to be reset \n",
    "    mu_s = inputs[ni,0]\n",
    "    kg = inputs[ni,1]\n",
    "\n",
    "    # initial guess for equilibrium problem \n",
    "    c0 = 10 \n",
    "    thetas0 = np.pi/6\n",
    "    pA0 = 10\n",
    "    X0 = [c0,thetas0,pA0]\n",
    "\n",
    "    # store solution of total deformation and growth\n",
    "    # for low fidelity, max and average are the same \n",
    "    lam_vec = np.zeros((n_inflations*nsteps-nsteps))\n",
    "    lamg_vec = np.zeros((n_inflations*nsteps-nsteps))\n",
    "    time_vec = np.zeros((n_inflations*nsteps-nsteps))\n",
    "    \n",
    "    # reset growth\n",
    "    lamg = 1\n",
    "\n",
    "    for ti in range(len(time_inflations)-1):\n",
    "        t0 = time_inflations[ti]\n",
    "        tf = time_inflations[ti+1]\n",
    "        dt = (tf-t0)/(nsteps-1)\n",
    "        # update volume in 'params'\n",
    "        Vb = Vb_inflations[ti]\n",
    "        # integrate growth\n",
    "        for step in range(nsteps):\n",
    "            params = [d, a_s, a_b, mu_b, mu_s, h_b, h_s, t_b, Vb, lamg]\n",
    "            # solve equilibrium \n",
    "            X = fsolve(evalEquilibrium,X0,args=params)\n",
    "            # evaluate total stretch \n",
    "            [Rc,Rb,cb,lamda_b,lamda_s] = evalSolution(X, params)\n",
    "            # integrate growth \n",
    "            if lamda_s*lam_crit/lamg-lam_crit>0:\n",
    "                lamg = lamg + dt*kg*(lamda_s*lam_crit/lamg-lam_crit)\n",
    "            # reset initial guess for next loop\n",
    "            X0 = X\n",
    "            # store to plot at the end \n",
    "            time_vec[ti*nsteps+step] = t0 + dt*step\n",
    "            lam_vec[ti*nsteps+step] = lamda_s\n",
    "            lamg_vec[ti*nsteps+step] = lamg\n",
    "    theta_LF_AnteFace30x60mm38cc[ni,:] = lam_vec\n",
    "    thetaG_LF_AnteFace30x60mm38cc[ni,:] = lamg_vec\n",
    "    "
   ]
  },
  {
   "cell_type": "code",
   "execution_count": 68,
   "metadata": {},
   "outputs": [
    {
     "data": {
      "text/plain": [
       "Text(0, 0.5, 'Area change $\\\\theta^g$ [-]')"
      ]
     },
     "execution_count": 68,
     "metadata": {},
     "output_type": "execute_result"
    },
    {
     "data": {
      "image/png": "[encoded data removed]",
      "text/plain": [
       "<Figure size 720x360 with 2 Axes>"
      ]
     },
     "metadata": {
      "needs_background": "light"
     },
     "output_type": "display_data"
    }
   ],
   "source": [
    "# Plot them all just to see how they look \n",
    "fig, ax = plt.subplots(1, 2,figsize=(10,5))\n",
    "for ni in range(n_input):\n",
    "    ax[0].plot(time_vec,theta_LF_AnteFace30x60mm38cc[ni,:])\n",
    "    ax[1].plot(time_vec,thetaG_LF_AnteFace30x60mm38cc[ni,:])\n",
    "ax[0].set_title('Total deformation')\n",
    "ax[1].set_title('Growth')\n",
    "ax[0].set_xlabel('Time [days]')\n",
    "ax[1].set_xlabel('Time [days]')\n",
    "ax[0].set_ylabel(r'Area change $\\theta$ [-]')\n",
    "ax[1].set_ylabel(r'Area change $\\theta^g$ [-]')"
   ]
  },
  {
   "cell_type": "code",
   "execution_count": 69,
   "metadata": {},
   "outputs": [],
   "source": [
    "# SAVE data \n",
    "np.savetxt('../time_vec_AnteFace30x60mm38cc.txt',time_vec)\n",
    "np.savetxt('../theta_LF_AnteFace30x60mm38cc.txt',theta_LF_AnteFace30x60mm38cc)\n",
    "np.savetxt('../thetaG_LF_AnteFace30x60mm38cc.txt',thetaG_LF_AnteFace30x60mm38cc)"
   ]
  },
  {
   "cell_type": "markdown",
   "metadata": {},
   "source": [
    "## Case 2: Lower face 30x60mm expander, 38ml final volume fill"
   ]
  },
  {
   "cell_type": "code",
   "execution_count": 70,
   "metadata": {},
   "outputs": [],
   "source": [
    "\n",
    "# Initial parameters [some of them will be overwritten]\n",
    "d    = 3 # mm, distance between skin surface and bottom of the expander\n",
    "a_s  = 18 # mm, distance between the center of the expander and the boundary condition, slightly wider than expander\n",
    "a_b  = 15 # mm, half of width of expander   \n",
    "mu_b = 20 # MPa, shear modulus of expander https://www.azom.com/properties.aspx?ArticleID=920 \n",
    "mu_s = 1 # MPa, shear modulus of skin  \n",
    "h_b  = 1 # mm thickness of expander \n",
    "h_s  = 1 # mm thickness of skin \n",
    "lam_crit = 1.1567 # prestrain \n",
    "# most important 'parameters' are, first thickness and volume at the end \n",
    "# more like control variables\n",
    "t_b  = 60 #mm length of the expander\n",
    "Vb   = 0 #mm^3 initial volume \n",
    "# the other 'parameter' is the growth\n",
    "lamg = 1 # initial growth \n",
    "# Store initial parameters\n",
    "params = [d, a_s, a_b, mu_b, mu_s, h_b, h_s, t_b, Vb, lamg]\n",
    "\n",
    "# Inflation protocol\n",
    "Vb_inflations = [15000,20000,23000,26000,28000,29000,30000,32000,34000,36000,38000,38000]\n",
    "time_inflations = [0,7,14,21,28,35,42,49,56,63,70,105]\n",
    "n_inflations = len(time_inflations)\n",
    "nsteps = 40\n",
    "\n",
    "# Loop over inputs, run model, save data \n",
    "theta_LF_LowerFace30x60mm38cc = np.zeros((n_input,n_inflations*nsteps-nsteps))\n",
    "thetaG_LF_LowerFace30x60mm38cc = np.zeros((n_input,n_inflations*nsteps-nsteps))\n",
    "    \n",
    "for ni in range(n_input):\n",
    "    # Parameters that need to be reset \n",
    "    mu_s = inputs[ni,0]\n",
    "    kg = inputs[ni,1]\n",
    "\n",
    "    # initial guess for equilibrium problem \n",
    "    c0 = 10 \n",
    "    thetas0 = np.pi/6\n",
    "    pA0 = 10\n",
    "    X0 = [c0,thetas0,pA0]\n",
    "\n",
    "    # store solution of total deformation and growth\n",
    "    # for low fidelity, max and average are the same \n",
    "    lam_vec = np.zeros((n_inflations*nsteps-nsteps))\n",
    "    lamg_vec = np.zeros((n_inflations*nsteps-nsteps))\n",
    "    time_vec = np.zeros((n_inflations*nsteps-nsteps))\n",
    "    \n",
    "    # reset growth\n",
    "    lamg = 1\n",
    "\n",
    "    for ti in range(len(time_inflations)-1):\n",
    "        t0 = time_inflations[ti]\n",
    "        tf = time_inflations[ti+1]\n",
    "        dt = (tf-t0)/(nsteps-1)\n",
    "        # update volume in 'params'\n",
    "        Vb = Vb_inflations[ti]\n",
    "        # integrate growth\n",
    "        for step in range(nsteps):\n",
    "            params = [d, a_s, a_b, mu_b, mu_s, h_b, h_s, t_b, Vb, lamg]\n",
    "            # solve equilibrium \n",
    "            X = fsolve(evalEquilibrium,X0,args=params)\n",
    "            # evaluate total stretch \n",
    "            [Rc,Rb,cb,lamda_b,lamda_s] = evalSolution(X, params)\n",
    "            # integrate growth \n",
    "            if lamda_s*lam_crit/lamg-lam_crit>0:\n",
    "                lamg = lamg + dt*kg*(lamda_s*lam_crit/lamg-lam_crit)\n",
    "            # reset initial guess for next loop\n",
    "            X0 = X\n",
    "            # store to plot at the end \n",
    "            time_vec[ti*nsteps+step] = t0 + dt*step\n",
    "            lam_vec[ti*nsteps+step] = lamda_s\n",
    "            lamg_vec[ti*nsteps+step] = lamg\n",
    "    theta_LF_LowerFace30x60mm38cc[ni,:] = lam_vec\n",
    "    thetaG_LF_LowerFace30x60mm38cc[ni,:] = lamg_vec"
   ]
  },
  {
   "cell_type": "code",
   "execution_count": 71,
   "metadata": {},
   "outputs": [
    {
     "data": {
      "text/plain": [
       "Text(0, 0.5, 'Area change $\\\\theta^g$ [-]')"
      ]
     },
     "execution_count": 71,
     "metadata": {},
     "output_type": "execute_result"
    },
    {
     "data": {
      "image/png": "[encoded data removed]",
      "text/plain": [
       "<Figure size 720x360 with 2 Axes>"
      ]
     },
     "metadata": {
      "needs_background": "light"
     },
     "output_type": "display_data"
    }
   ],
   "source": [
    "# Plot them all just to see how they look \n",
    "fig, ax = plt.subplots(1, 2,figsize=(10,5))\n",
    "for ni in range(n_input):\n",
    "    ax[0].plot(time_vec,theta_LF_LowerFace30x60mm38cc[ni,:])\n",
    "    ax[1].plot(time_vec,thetaG_LF_LowerFace30x60mm38cc[ni,:])\n",
    "ax[0].set_title('Total deformation')\n",
    "ax[1].set_title('Growth')\n",
    "ax[0].set_xlabel('Time [days]')\n",
    "ax[1].set_xlabel('Time [days]')\n",
    "ax[0].set_ylabel(r'Area change $\\theta$ [-]')\n",
    "ax[1].set_ylabel(r'Area change $\\theta^g$ [-]')"
   ]
  },
  {
   "cell_type": "code",
   "execution_count": 72,
   "metadata": {},
   "outputs": [],
   "source": [
    "# SAVE data \n",
    "np.savetxt('../time_vec_LowerFace30x60mm38cc.txt',time_vec)\n",
    "np.savetxt('../theta_LF_LowerFace30x60mm38cc.txt',theta_LF_LowerFace30x60mm38cc)\n",
    "np.savetxt('../thetaG_LF_LowerFace30x60mm38cc.txt',thetaG_LF_LowerFace30x60mm38cc)"
   ]
  },
  {
   "cell_type": "markdown",
   "metadata": {},
   "source": [
    "## Case 3: Forehead 30x60mm expander, 33ml final volume fill"
   ]
  },
  {
   "cell_type": "code",
   "execution_count": 73,
   "metadata": {},
   "outputs": [],
   "source": [
    "# Initial parameters [some of them will be overwritten]\n",
    "d    = 3 # mm, distance between skin surface and bottom of the expander\n",
    "a_s  = 18 # mm, distance between the center of the expander and the boundary condition, slightly wider than expander\n",
    "a_b  = 15 # mm, half of width of expander   \n",
    "mu_b = 20 # MPa, shear modulus of expander https://www.azom.com/properties.aspx?ArticleID=920 \n",
    "mu_s = 1 # MPa, shear modulus of skin  \n",
    "h_b  = 1 # mm thickness of expander \n",
    "h_s  = 1 # mm thickness of skin \n",
    "lam_crit = 1.1567 # prestrain \n",
    "# most important 'parameters' are, first thickness and volume at the end \n",
    "# more like control variables\n",
    "t_b  = 60 #mm length of the expander\n",
    "Vb   = 0 #mm^3 initial volume \n",
    "# the other 'parameter' is the growth\n",
    "lamg = 1 # initial growth \n",
    "# Store initial parameters\n",
    "params = [d, a_s, a_b, mu_b, mu_s, h_b, h_s, t_b, Vb, lamg]\n",
    "\n",
    "# Inflation protocol\n",
    "Vb_inflations = [6000,10000,14000,17000,20000,23000,24000,25000,26000,27000,29000,31000,33000,33000]\n",
    "time_inflations = [0,7,21,35,42,49,56,63,70,77,84,91,98,105]\n",
    "n_inflations = len(time_inflations)\n",
    "nsteps = 40\n",
    "\n",
    "# Loop over inputs, run model, save data \n",
    "theta_LF_Forehead30x60mm38cc = np.zeros((n_input,n_inflations*nsteps-nsteps))\n",
    "thetaG_LF_Forehead30x60mm38cc = np.zeros((n_input,n_inflations*nsteps-nsteps))\n",
    "    \n",
    "for ni in range(n_input):\n",
    "    # Parameters that need to be reset \n",
    "    mu_s = inputs[ni,0]\n",
    "    kg = inputs[ni,1]\n",
    "\n",
    "    # initial guess for equilibrium problem \n",
    "    c0 = 10 \n",
    "    thetas0 = np.pi/6\n",
    "    pA0 = 10\n",
    "    X0 = [c0,thetas0,pA0]\n",
    "\n",
    "    # store solution of total deformation and growth\n",
    "    # for low fidelity, max and average are the same \n",
    "    lam_vec = np.zeros((n_inflations*nsteps-nsteps))\n",
    "    lamg_vec = np.zeros((n_inflations*nsteps-nsteps))\n",
    "    time_vec = np.zeros((n_inflations*nsteps-nsteps))\n",
    "    \n",
    "    # reset growth\n",
    "    lamg = 1\n",
    "\n",
    "    for ti in range(len(time_inflations)-1):\n",
    "        t0 = time_inflations[ti]\n",
    "        tf = time_inflations[ti+1]\n",
    "        dt = (tf-t0)/(nsteps-1)\n",
    "        # update volume in 'params'\n",
    "        Vb = Vb_inflations[ti]\n",
    "        # integrate growth\n",
    "        for step in range(nsteps):\n",
    "            params = [d, a_s, a_b, mu_b, mu_s, h_b, h_s, t_b, Vb, lamg]\n",
    "            # solve equilibrium \n",
    "            X = fsolve(evalEquilibrium,X0,args=params)\n",
    "            # evaluate total stretch \n",
    "            [Rc,Rb,cb,lamda_b,lamda_s] = evalSolution(X, params)\n",
    "            # integrate growth \n",
    "            if lamda_s*lam_crit/lamg-lam_crit>0:\n",
    "                lamg = lamg + dt*kg*(lamda_s*lam_crit/lamg-lam_crit)\n",
    "            # reset initial guess for next loop\n",
    "            X0 = X\n",
    "            # store to plot at the end \n",
    "            time_vec[ti*nsteps+step] = t0 + dt*step\n",
    "            lam_vec[ti*nsteps+step] = lamda_s\n",
    "            lamg_vec[ti*nsteps+step] = lamg\n",
    "    theta_LF_Forehead30x60mm38cc[ni,:] = lam_vec\n",
    "    thetaG_LF_Forehead30x60mm38cc[ni,:] = lamg_vec"
   ]
  },
  {
   "cell_type": "code",
   "execution_count": 74,
   "metadata": {},
   "outputs": [
    {
     "data": {
      "text/plain": [
       "Text(0, 0.5, 'Area change $\\\\theta^g$ [-]')"
      ]
     },
     "execution_count": 74,
     "metadata": {},
     "output_type": "execute_result"
    },
    {
     "data": {
      "image/png": "[encoded data removed]",
      "text/plain": [
       "<Figure size 720x360 with 2 Axes>"
      ]
     },
     "metadata": {
      "needs_background": "light"
     },
     "output_type": "display_data"
    }
   ],
   "source": [
    "# Plot them all just to see how they look \n",
    "fig, ax = plt.subplots(1, 2,figsize=(10,5))\n",
    "for ni in range(n_input):\n",
    "    ax[0].plot(time_vec,theta_LF_Forehead30x60mm38cc[ni,:])\n",
    "    ax[1].plot(time_vec,thetaG_LF_Forehead30x60mm38cc[ni,:])\n",
    "ax[0].set_title('Total deformation')\n",
    "ax[1].set_title('Growth')\n",
    "ax[0].set_xlabel('Time [days]')\n",
    "ax[1].set_xlabel('Time [days]')\n",
    "ax[0].set_ylabel(r'Area change $\\theta$ [-]')\n",
    "ax[1].set_ylabel(r'Area change $\\theta^g$ [-]')"
   ]
  },
  {
   "cell_type": "code",
   "execution_count": 75,
   "metadata": {},
   "outputs": [],
   "source": [
    "# SAVE data \n",
    "np.savetxt('../time_vec_Forehead30x60mm38cc.txt',time_vec)\n",
    "np.savetxt('../theta_LF_Forehead30x60mm38cc.txt',theta_LF_Forehead30x60mm38cc)\n",
    "np.savetxt('../thetaG_LF_Forehead30x60mm38cc.txt',thetaG_LF_Forehead30x60mm38cc)"
   ]
  },
  {
   "cell_type": "markdown",
   "metadata": {},
   "source": [
    "## Case 4: Posterior scalp 60x120mm, 221ml final fill volume"
   ]
  },
  {
   "cell_type": "code",
   "execution_count": 76,
   "metadata": {},
   "outputs": [],
   "source": [
    "# Initial parameters [some of them will be overwritten]\n",
    "d    = 3 # mm, distance between skin surface and bottom of the expander\n",
    "a_s  = 36 # mm, distance between the center of the expander and the boundary condition, slightly wider than expander\n",
    "a_b  = 30 # mm, half of width of expander   \n",
    "mu_b = 20 # MPa, shear modulus of expander https://www.azom.com/properties.aspx?ArticleID=920 \n",
    "mu_s = 1 # MPa, shear modulus of skin  \n",
    "h_b  = 1 # mm thickness of expander \n",
    "h_s  = 1 # mm thickness of skin \n",
    "lam_crit = 1.1567 # prestrain \n",
    "# most important 'parameters' are, first thickness and volume at the end \n",
    "# more like control variables\n",
    "t_b  = 120 #mm length of the expander\n",
    "Vb   = 0 #mm^3 initial volume \n",
    "# the other 'parameter' is the growth\n",
    "lamg = 1 # initial growth \n",
    "# Store initial parameters\n",
    "params = [d, a_s, a_b, mu_b, mu_s, h_b, h_s, t_b, Vb, lamg]\n",
    "\n",
    "# Inflation protocol\n",
    "Vb_inflations = [20000,47000,74000,89000,106000,123000,141000,156000,166000,181000,196000,211000,221000,221000]\n",
    "time_inflations = [0,7,21,35,42,49,56,63,70,77,84,91,98,105]\n",
    "n_inflations = len(time_inflations)\n",
    "nsteps = 40\n",
    "\n",
    "# Loop over inputs, run model, save data \n",
    "theta_LF_PostScalp60x120mm221cc = np.zeros((n_input,n_inflations*nsteps-nsteps))\n",
    "thetaG_LF_PostScalp60x120mm221cc = np.zeros((n_input,n_inflations*nsteps-nsteps))\n",
    "    \n",
    "for ni in range(n_input):\n",
    "    # Parameters that need to be reset \n",
    "    mu_s = inputs[ni,0]\n",
    "    kg = inputs[ni,1]\n",
    "\n",
    "    # initial guess for equilibrium problem \n",
    "    c0 = 10 \n",
    "    thetas0 = np.pi/6\n",
    "    pA0 = 10\n",
    "    X0 = [c0,thetas0,pA0]\n",
    "\n",
    "    # store solution of total deformation and growth\n",
    "    # for low fidelity, max and average are the same \n",
    "    lam_vec = np.zeros((n_inflations*nsteps-nsteps))\n",
    "    lamg_vec = np.zeros((n_inflations*nsteps-nsteps))\n",
    "    time_vec = np.zeros((n_inflations*nsteps-nsteps))\n",
    "    \n",
    "    # reset growth\n",
    "    lamg = 1\n",
    "\n",
    "    for ti in range(len(time_inflations)-1):\n",
    "        t0 = time_inflations[ti]\n",
    "        tf = time_inflations[ti+1]\n",
    "        dt = (tf-t0)/(nsteps-1)\n",
    "        # update volume in 'params'\n",
    "        Vb = Vb_inflations[ti]\n",
    "        # integrate growth\n",
    "        for step in range(nsteps):\n",
    "            params = [d, a_s, a_b, mu_b, mu_s, h_b, h_s, t_b, Vb, lamg]\n",
    "            # solve equilibrium \n",
    "            X = fsolve(evalEquilibrium,X0,args=params)\n",
    "            # evaluate total stretch \n",
    "            [Rc,Rb,cb,lamda_b,lamda_s] = evalSolution(X, params)\n",
    "            # integrate growth \n",
    "            if lamda_s*lam_crit/lamg-lam_crit>0:\n",
    "                lamg = lamg + dt*kg*(lamda_s*lam_crit/lamg-lam_crit)\n",
    "            # reset initial guess for next loop\n",
    "            X0 = X\n",
    "            # store to plot at the end \n",
    "            time_vec[ti*nsteps+step] = t0 + dt*step\n",
    "            lam_vec[ti*nsteps+step] = lamda_s\n",
    "            lamg_vec[ti*nsteps+step] = lamg\n",
    "    theta_LF_PostScalp60x120mm221cc[ni,:] = lam_vec\n",
    "    thetaG_LF_PostScalp60x120mm221cc[ni,:] = lamg_vec"
   ]
  },
  {
   "cell_type": "code",
   "execution_count": 77,
   "metadata": {},
   "outputs": [
    {
     "data": {
      "text/plain": [
       "Text(0, 0.5, 'Area change $\\\\theta^g$ [-]')"
      ]
     },
     "execution_count": 77,
     "metadata": {},
     "output_type": "execute_result"
    },
    {
     "data": {
      "image/png": "[encoded data removed]",
      "text/plain": [
       "<Figure size 720x360 with 2 Axes>"
      ]
     },
     "metadata": {
      "needs_background": "light"
     },
     "output_type": "display_data"
    }
   ],
   "source": [
    "# Plot them all just to see how they look \n",
    "fig, ax = plt.subplots(1, 2,figsize=(10,5))\n",
    "for ni in range(n_input):\n",
    "    ax[0].plot(time_vec,theta_LF_PostScalp60x120mm221cc[ni,:])\n",
    "    ax[1].plot(time_vec,thetaG_LF_PostScalp60x120mm221cc[ni,:])\n",
    "ax[0].set_title('Total deformation')\n",
    "ax[1].set_title('Growth')\n",
    "ax[0].set_xlabel('Time [days]')\n",
    "ax[1].set_xlabel('Time [days]')\n",
    "ax[0].set_ylabel(r'Area change $\\theta$ [-]')\n",
    "ax[1].set_ylabel(r'Area change $\\theta^g$ [-]')"
   ]
  },
  {
   "cell_type": "code",
   "execution_count": 78,
   "metadata": {},
   "outputs": [],
   "source": [
    "# SAVE data \n",
    "np.savetxt('../time_vec_PostScalp60x120mm221cc.txt',time_vec)\n",
    "np.savetxt('../theta_LF_PostScalp60x120mm221cc.txt',theta_LF_PostScalp60x120mm221cc)\n",
    "np.savetxt('../thetaG_LF_PostScalp60x120mm221cc.txt',thetaG_LF_PostScalp60x120mm221cc)"
   ]
  },
  {
   "cell_type": "markdown",
   "metadata": {},
   "source": [
    "## Case 5: Anterior scalp 'crescent' 50x130mm, 243ml final fill volume\n",
    "\n",
    "There is no 'crescent' for the analytical model, will be modeled as a rectangular expander! \n"
   ]
  },
  {
   "cell_type": "code",
   "execution_count": 79,
   "metadata": {},
   "outputs": [],
   "source": [
    "# Initial parameters [some of them will be overwritten]\n",
    "d    = 3 # mm, distance between skin surface and bottom of the expander\n",
    "a_s  = 28 # mm, distance between the center of the expander and the boundary condition, slightly wider than expander\n",
    "a_b  = 25 # mm, half of width of expander   \n",
    "mu_b = 20 # MPa, shear modulus of expander https://www.azom.com/properties.aspx?ArticleID=920 \n",
    "mu_s = 1 # MPa, shear modulus of skin  \n",
    "h_b  = 1 # mm thickness of expander \n",
    "h_s  = 1 # mm thickness of skin \n",
    "lam_crit = 1.1567 # prestrain \n",
    "# most important 'parameters' are, first thickness and volume at the end \n",
    "# more like control variables\n",
    "t_b  = 130 #mm length of the expander\n",
    "Vb   = 0 #mm^3 initial volume \n",
    "# the other 'parameter' is the growth\n",
    "lamg = 1 # initial growth \n",
    "# Store initial parameters\n",
    "params = [d, a_s, a_b, mu_b, mu_s, h_b, h_s, t_b, Vb, lamg]\n",
    "\n",
    "# Inflation protocol\n",
    "Vb_inflations = [20000,47000,74000,97000,124000,142000,157000,172000,188000,203000,218000,233000,243000,243000]\n",
    "time_inflations = [0,7,21,35,42,49,56,63,70,77,84,91,98,105]\n",
    "n_inflations = len(time_inflations)\n",
    "nsteps = 40\n",
    "\n",
    "# Loop over inputs, run model, save data \n",
    "theta_LF_AnteScalp50x130mm243cc = np.zeros((n_input,n_inflations*nsteps-nsteps))\n",
    "thetaG_LF_AnteScalp50x130mm243cc = np.zeros((n_input,n_inflations*nsteps-nsteps))\n",
    "    \n",
    "for ni in range(n_input):\n",
    "    # Parameters that need to be reset \n",
    "    mu_s = inputs[ni,0]\n",
    "    kg = inputs[ni,1]\n",
    "\n",
    "    # initial guess for equilibrium problem \n",
    "    c0 = 10 \n",
    "    thetas0 = np.pi/6\n",
    "    pA0 = 10\n",
    "    X0 = [c0,thetas0,pA0]\n",
    "\n",
    "    # store solution of total deformation and growth\n",
    "    # for low fidelity, max and average are the same \n",
    "    lam_vec = np.zeros((n_inflations*nsteps-nsteps))\n",
    "    lamg_vec = np.zeros((n_inflations*nsteps-nsteps))\n",
    "    time_vec = np.zeros((n_inflations*nsteps-nsteps))\n",
    "    \n",
    "    # reset growth\n",
    "    lamg = 1\n",
    "\n",
    "    for ti in range(len(time_inflations)-1):\n",
    "        t0 = time_inflations[ti]\n",
    "        tf = time_inflations[ti+1]\n",
    "        dt = (tf-t0)/(nsteps-1)\n",
    "        # update volume in 'params'\n",
    "        Vb = Vb_inflations[ti]\n",
    "        # integrate growth\n",
    "        for step in range(nsteps):\n",
    "            params = [d, a_s, a_b, mu_b, mu_s, h_b, h_s, t_b, Vb, lamg]\n",
    "            # solve equilibrium \n",
    "            X = fsolve(evalEquilibrium,X0,args=params)\n",
    "            # evaluate total stretch \n",
    "            [Rc,Rb,cb,lamda_b,lamda_s] = evalSolution(X, params)\n",
    "            # integrate growth \n",
    "            if lamda_s*lam_crit/lamg-lam_crit>0:\n",
    "                lamg = lamg + dt*kg*(lamda_s*lam_crit/lamg-lam_crit)\n",
    "            # reset initial guess for next loop\n",
    "            X0 = X\n",
    "            # store to plot at the end \n",
    "            time_vec[ti*nsteps+step] = t0 + dt*step\n",
    "            lam_vec[ti*nsteps+step] = lamda_s\n",
    "            lamg_vec[ti*nsteps+step] = lamg\n",
    "    theta_LF_AnteScalp50x130mm243cc[ni,:] = lam_vec\n",
    "    thetaG_LF_AnteScalp50x130mm243cc[ni,:] = lamg_vec"
   ]
  },
  {
   "cell_type": "code",
   "execution_count": 80,
   "metadata": {},
   "outputs": [
    {
     "data": {
      "text/plain": [
       "Text(0, 0.5, 'Area change $\\\\theta^g$ [-]')"
      ]
     },
     "execution_count": 80,
     "metadata": {},
     "output_type": "execute_result"
    },
    {
     "data": {
      "image/png": "[encoded data removed]",
      "text/plain": [
       "<Figure size 720x360 with 2 Axes>"
      ]
     },
     "metadata": {
      "needs_background": "light"
     },
     "output_type": "display_data"
    }
   ],
   "source": [
    "# Plot them all just to see how they look \n",
    "fig, ax = plt.subplots(1, 2,figsize=(10,5))\n",
    "for ni in range(n_input):\n",
    "    ax[0].plot(time_vec,theta_LF_AnteScalp50x130mm243cc[ni,:] )\n",
    "    ax[1].plot(time_vec,thetaG_LF_AnteScalp50x130mm243cc[ni,:])\n",
    "ax[0].set_title('Total deformation')\n",
    "ax[1].set_title('Growth')\n",
    "ax[0].set_xlabel('Time [days]')\n",
    "ax[1].set_xlabel('Time [days]')\n",
    "ax[0].set_ylabel(r'Area change $\\theta$ [-]')\n",
    "ax[1].set_ylabel(r'Area change $\\theta^g$ [-]')"
   ]
  },
  {
   "cell_type": "code",
   "execution_count": 81,
   "metadata": {},
   "outputs": [],
   "source": [
    "# SAVE data \n",
    "np.savetxt('../time_vec_AnteScalp50x130mm243cc.txt',time_vec)\n",
    "np.savetxt('../theta_LF_AnteScalp50x130mm243cc.txt',theta_LF_AnteScalp50x130mm243cc)\n",
    "np.savetxt('../thetaG_LF_AnteScalp50x130mm243cc.txt',thetaG_LF_AnteScalp50x130mm243cc)"
   ]
  },
  {
   "cell_type": "markdown",
   "metadata": {},
   "source": [
    "## Case 6: Left calvicular 50x100mm, 133ml final fill volume"
   ]
  },
  {
   "cell_type": "code",
   "execution_count": 82,
   "metadata": {},
   "outputs": [],
   "source": [
    "# Initial parameters [some of them will be overwritten]\n",
    "d    = 3 # mm, distance between skin surface and bottom of the expander\n",
    "a_s  = 28 # mm, distance between the center of the expander and the boundary condition, slightly wider than expander\n",
    "a_b  = 25 # mm, half of width of expander   \n",
    "mu_b = 20 # MPa, shear modulus of expander https://www.azom.com/properties.aspx?ArticleID=920 \n",
    "mu_s = 1 # MPa, shear modulus of skin  \n",
    "h_b  = 1 # mm thickness of expander \n",
    "h_s  = 1 # mm thickness of skin \n",
    "lam_crit = 1.1567 # prestrain \n",
    "# most important 'parameters' are, first thickness and volume at the end \n",
    "# more like control variables\n",
    "t_b  = 100 #mm length of the expander\n",
    "Vb   = 0 #mm^3 initial volume \n",
    "# the other 'parameter' is the growth\n",
    "lamg = 1 # initial growth \n",
    "# Store initial parameters\n",
    "params = [d, a_s, a_b, mu_b, mu_s, h_b, h_s, t_b, Vb, lamg]\n",
    "\n",
    "# Inflation protocol\n",
    "Vb_inflations = [8000,18000,38000,58000,78000,94000,109000,123000,126000,128000,133000,133000]\n",
    "time_inflations = [0,7,14,21,28,35,42,49,56,70,91,105]\n",
    "n_inflations = len(time_inflations)\n",
    "nsteps = 40\n",
    "\n",
    "# Loop over inputs, run model, save data \n",
    "theta_LF_LeftClav50x100mm133cc = np.zeros((n_input,n_inflations*nsteps-nsteps))\n",
    "thetaG_LF_LeftClav50x100mm133cc = np.zeros((n_input,n_inflations*nsteps-nsteps))\n",
    "    \n",
    "for ni in range(n_input):\n",
    "    # Parameters that need to be reset \n",
    "    mu_s = inputs[ni,0]\n",
    "    kg = inputs[ni,1]\n",
    "\n",
    "    # initial guess for equilibrium problem \n",
    "    c0 = 10 \n",
    "    thetas0 = np.pi/6\n",
    "    pA0 = 10\n",
    "    X0 = [c0,thetas0,pA0]\n",
    "\n",
    "    # store solution of total deformation and growth\n",
    "    # for low fidelity, max and average are the same \n",
    "    lam_vec = np.zeros((n_inflations*nsteps-nsteps))\n",
    "    lamg_vec = np.zeros((n_inflations*nsteps-nsteps))\n",
    "    time_vec = np.zeros((n_inflations*nsteps-nsteps))\n",
    "    \n",
    "    # reset growth\n",
    "    lamg = 1\n",
    "\n",
    "    for ti in range(len(time_inflations)-1):\n",
    "        t0 = time_inflations[ti]\n",
    "        tf = time_inflations[ti+1]\n",
    "        dt = (tf-t0)/(nsteps-1)\n",
    "        # update volume in 'params'\n",
    "        Vb = Vb_inflations[ti]\n",
    "        # integrate growth\n",
    "        for step in range(nsteps):\n",
    "            params = [d, a_s, a_b, mu_b, mu_s, h_b, h_s, t_b, Vb, lamg]\n",
    "            # solve equilibrium \n",
    "            X = fsolve(evalEquilibrium,X0,args=params)\n",
    "            # evaluate total stretch \n",
    "            [Rc,Rb,cb,lamda_b,lamda_s] = evalSolution(X, params)\n",
    "            # integrate growth \n",
    "            if lamda_s*lam_crit/lamg-lam_crit>0:\n",
    "                lamg = lamg + dt*kg*(lamda_s*lam_crit/lamg-lam_crit)\n",
    "            # reset initial guess for next loop\n",
    "            X0 = X\n",
    "            # store to plot at the end \n",
    "            time_vec[ti*nsteps+step] = t0 + dt*step\n",
    "            lam_vec[ti*nsteps+step] = lamda_s\n",
    "            lamg_vec[ti*nsteps+step] = lamg\n",
    "    theta_LF_LeftClav50x100mm133cc[ni,:] = lam_vec\n",
    "    thetaG_LF_LeftClav50x100mm133cc[ni,:] = lamg_vec"
   ]
  },
  {
   "cell_type": "code",
   "execution_count": 83,
   "metadata": {},
   "outputs": [
    {
     "data": {
      "text/plain": [
       "Text(0, 0.5, 'Area change $\\\\theta^g$ [-]')"
      ]
     },
     "execution_count": 83,
     "metadata": {},
     "output_type": "execute_result"
    },
    {
     "data": {
      "image/png": "[encoded data removed]",
      "text/plain": [
       "<Figure size 720x360 with 2 Axes>"
      ]
     },
     "metadata": {
      "needs_background": "light"
     },
     "output_type": "display_data"
    }
   ],
   "source": [
    "# Plot them all just to see how they look \n",
    "fig, ax = plt.subplots(1, 2,figsize=(10,5))\n",
    "for ni in range(n_input):\n",
    "    ax[0].plot(time_vec,theta_LF_LeftClav50x100mm133cc[ni,:] )\n",
    "    ax[1].plot(time_vec,thetaG_LF_LeftClav50x100mm133cc[ni,:] )\n",
    "ax[0].set_title('Total deformation')\n",
    "ax[1].set_title('Growth')\n",
    "ax[0].set_xlabel('Time [days]')\n",
    "ax[1].set_xlabel('Time [days]')\n",
    "ax[0].set_ylabel(r'Area change $\\theta$ [-]')\n",
    "ax[1].set_ylabel(r'Area change $\\theta^g$ [-]')"
   ]
  },
  {
   "cell_type": "code",
   "execution_count": 84,
   "metadata": {},
   "outputs": [],
   "source": [
    "# SAVE data \n",
    "np.savetxt('../time_vec_LeftClav50x100mm133cc.txt',time_vec)\n",
    "np.savetxt('../theta_LF_LeftClav50x100mm133cc.txt',theta_LF_LeftClav50x100mm133cc)\n",
    "np.savetxt('../thetaG_LF_LeftClav50x100mm133cc.txt',thetaG_LF_LeftClav50x100mm133cc)"
   ]
  },
  {
   "cell_type": "code",
   "execution_count": 40,
   "metadata": {},
   "outputs": [
    {
     "data": {
      "text/plain": [
       "array([  0.,  40.,  80., 120., 160., 200., 240., 280., 320., 360., 400.,\n",
       "       439.])"
      ]
     },
     "execution_count": 40,
     "metadata": {},
     "output_type": "execute_result"
    }
   ],
   "source": [
    "i=-1\n",
    "n_tpts = np.array([14,12,14,14,14,12])\n",
    "tpts = np.linspace(0,(n_tpts[i]-1)*40,n_tpts[i])\n",
    "tpts[-1] -= 1\n",
    "tpts"
   ]
  },
  {
   "cell_type": "code",
   "execution_count": 38,
   "metadata": {},
   "outputs": [
    {
     "data": {
      "text/plain": [
       "array([  0.,  40.,  80., 120., 160., 200., 240., 280., 320., 360., 400.,\n",
       "       440., 480., 519.])"
      ]
     },
     "execution_count": 38,
     "metadata": {},
     "output_type": "execute_result"
    }
   ],
   "source": []
  },
  {
   "cell_type": "code",
   "execution_count": null,
   "metadata": {},
   "outputs": [],
   "source": []
  }
 ],
 "metadata": {
  "kernelspec": {
   "display_name": "Python 3 (ipykernel)",
   "language": "python",
   "name": "python3"
  },
  "language_info": {
   "codemirror_mode": {
    "name": "ipython",
    "version": 3
   },
   "file_extension": ".py",
   "mimetype": "text/x-python",
   "name": "python",
   "nbconvert_exporter": "python",
   "pygments_lexer": "ipython3",
   "version": "3.9.7"
  }
 },
 "nbformat": 4,
 "nbformat_minor": 4
}
